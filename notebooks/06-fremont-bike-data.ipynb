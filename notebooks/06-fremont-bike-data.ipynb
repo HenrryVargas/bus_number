{
 "cells": [
  {
   "cell_type": "code",
   "execution_count": 1,
   "metadata": {},
   "outputs": [],
   "source": [
    "from src.data import RawDataset, Dataset\n",
    "from src.utils import list_dir, head_file, load_json, save_json\n",
    "from src import workflow\n",
    "\n",
    "import matplotlib.pyplot as plt\n",
    "plt.style.use('seaborn')\n"
   ]
  },
  {
   "cell_type": "code",
   "execution_count": 2,
   "metadata": {},
   "outputs": [],
   "source": [
    "%load_ext autoreload\n",
    "%autoreload 2"
   ]
  },
  {
   "cell_type": "code",
   "execution_count": 3,
   "metadata": {},
   "outputs": [],
   "source": [
    "import logging\n",
    "logging.basicConfig(level=logging.DEBUG)\n",
    "logger = logging.getLogger()\n",
    "logger.setLevel(logging.DEBUG)"
   ]
  },
  {
   "cell_type": "markdown",
   "metadata": {},
   "source": [
    "# Create Raw Dataset"
   ]
  },
  {
   "cell_type": "code",
   "execution_count": 4,
   "metadata": {},
   "outputs": [],
   "source": [
    "raw_ds = RawDataset(\"fremont_bike\")"
   ]
  },
  {
   "cell_type": "code",
   "execution_count": 5,
   "metadata": {},
   "outputs": [],
   "source": [
    "raw_ds.add_url(url=\"https://data.seattle.gov/api/views/65db-xm6k/rows.csv?accessType=DOWNLOAD\", file_name=\"fremont.csv\")"
   ]
  },
  {
   "cell_type": "code",
   "execution_count": 6,
   "metadata": {},
   "outputs": [],
   "source": [
    "license_txt = \"Public Domain\"\n",
    "\n",
    "readme_txt = \"\"\"\n",
    "Fremont Bridge Hourly Bicycle Counts by Month October 2012 to present\n",
    "\n",
    "The Dataset is provided by the Seattle Department of Transportation Open Data initiative and is available from:\n",
    "https://data.seattle.gov/Transportation/Fremont-Bridge-Hourly-Bicycle-Counts-by-Month-Octo/65db-xm6k\n",
    "\n",
    "Description\n",
    "-----------\n",
    "The Fremont Bridge Bicycle Counter records the number of bikes that cross the bridge using the \n",
    "pedestrian/bicycle pathways. Inductive loops on the east and west pathways count the passing of bicycles \n",
    "regardless of travel direction. The data consists of a date/time field: Date, east pathway count field: \n",
    "Fremont Bridge NB, and west pathway count field: Fremont Bridge SB. The count fields represent the \n",
    "total bicycles detected during the specified one hour period. Direction of travel is not specified, \n",
    "but in general most traffic in the Fremont Bridge NB field is travelling northbound and most traffic in\n",
    "the Fremont Bridge SB field is travelling southbound.\n",
    "\n",
    "Data Format\n",
    "-----------\n",
    "The Dataset consists of a csv file with three columns:\n",
    "  Date, Fremont Bridge East Sidewalk, Fremont Bridge West Sidewalk\n",
    "Data consist of counts (in each direction) grouped by hour.\n",
    "\n",
    "\"\"\"\n"
   ]
  },
  {
   "cell_type": "code",
   "execution_count": 7,
   "metadata": {},
   "outputs": [],
   "source": [
    "raw_ds.add_metadata(contents=license_txt, kind='LICENSE')\n",
    "raw_ds.add_metadata(contents=readme_txt, kind='DESCR')"
   ]
  },
  {
   "cell_type": "code",
   "execution_count": 29,
   "metadata": {},
   "outputs": [
    {
     "name": "stderr",
     "output_type": "stream",
     "text": [
      "2018-10-13 14:04:45,642 - fetch - DEBUG - fremont.csv exists, but no hash to check. Setting to sha1:1f4226ac7445d955ea1e5bad469be07bafb5c511\n",
      "2018-10-13 14:04:45,643 - fetch - DEBUG - Creating fremont_bike.license from `contents` string\n",
      "2018-10-13 14:04:45,644 - fetch - DEBUG - fremont_bike.license exists, but no hash to check. Setting to sha1:b95d961276d9e9809aec43b99dd04ac1d017c6fc\n",
      "2018-10-13 14:04:45,645 - fetch - DEBUG - Creating fremont_bike.readme from `contents` string\n",
      "2018-10-13 14:04:45,648 - fetch - DEBUG - fremont_bike.readme exists, but no hash to check. Setting to sha1:4f18f5ff4f45776986f865897db6c7fab5ceed2d\n"
     ]
    },
    {
     "data": {
      "text/plain": [
       "True"
      ]
     },
     "execution_count": 29,
     "metadata": {},
     "output_type": "execute_result"
    }
   ],
   "source": [
    "raw_ds.fetch()"
   ]
  },
  {
   "cell_type": "code",
   "execution_count": 8,
   "metadata": {},
   "outputs": [
    {
     "name": "stderr",
     "output_type": "stream",
     "text": [
      "2018-10-13 14:06:42,653 - datasets - DEBUG - unpack() called before fetch()\n",
      "2018-10-13 14:06:42,659 - fetch - DEBUG - fremont.csv exists, but no hash to check. Setting to sha1:1f4226ac7445d955ea1e5bad469be07bafb5c511\n",
      "2018-10-13 14:06:42,659 - fetch - DEBUG - Creating fremont_bike.license from `contents` string\n",
      "2018-10-13 14:06:42,662 - fetch - DEBUG - fremont_bike.license exists, but no hash to check. Setting to sha1:b95d961276d9e9809aec43b99dd04ac1d017c6fc\n",
      "2018-10-13 14:06:42,662 - fetch - DEBUG - Creating fremont_bike.readme from `contents` string\n",
      "2018-10-13 14:06:42,664 - fetch - DEBUG - fremont_bike.readme exists, but no hash to check. Setting to sha1:4f18f5ff4f45776986f865897db6c7fab5ceed2d\n",
      "2018-10-13 14:06:42,665 - fetch - DEBUG - Copying fremont.csv\n",
      "2018-10-13 14:06:42,691 - fetch - DEBUG - Copying fremont_bike.license\n",
      "2018-10-13 14:06:42,693 - fetch - DEBUG - Copying fremont_bike.readme\n"
     ]
    },
    {
     "name": "stdout",
     "output_type": "stream",
     "text": [
      "/Users/kjell/Documents/devel/git/bus_number/data/interim/fremont_bike\n"
     ]
    },
    {
     "data": {
      "text/plain": [
       "['fremont.csv',\n",
       " 'fremont_bike.license',\n",
       " 'fremont_bike.readme',\n",
       " 'rows.csv?accessType=DOWNLOAD']"
      ]
     },
     "execution_count": 8,
     "metadata": {},
     "output_type": "execute_result"
    }
   ],
   "source": [
    "# What do we have?\n",
    "unpack_dir = raw_ds.unpack()\n",
    "print(unpack_dir)\n",
    "list_dir(unpack_dir)"
   ]
  },
  {
   "cell_type": "code",
   "execution_count": 10,
   "metadata": {},
   "outputs": [
    {
     "name": "stdout",
     "output_type": "stream",
     "text": [
      "Date,Fremont Bridge East Sidewalk,Fremont Bridge West Sidewalk\n",
      "10/03/2012 12:00:00 AM,9,4\n",
      "10/03/2012 01:00:00 AM,6,4\n",
      "10/03/2012 02:00:00 AM,1,1\n",
      "10/03/2012 03:00:00 AM,3,2\n",
      "10/03/2012 04:00:00 AM,1,6\n",
      "\n"
     ]
    }
   ],
   "source": [
    "# Quick check of data format\n",
    "print(head_file(unpack_dir / 'fremont.csv'))"
   ]
  },
  {
   "cell_type": "markdown",
   "metadata": {},
   "source": [
    "## Process data"
   ]
  },
  {
   "cell_type": "code",
   "execution_count": 100,
   "metadata": {},
   "outputs": [],
   "source": [
    "import pandas as pd"
   ]
  },
  {
   "cell_type": "code",
   "execution_count": 101,
   "metadata": {},
   "outputs": [
    {
     "data": {
      "text/html": [
       "<div>\n",
       "<style scoped>\n",
       "    .dataframe tbody tr th:only-of-type {\n",
       "        vertical-align: middle;\n",
       "    }\n",
       "\n",
       "    .dataframe tbody tr th {\n",
       "        vertical-align: top;\n",
       "    }\n",
       "\n",
       "    .dataframe thead th {\n",
       "        text-align: right;\n",
       "    }\n",
       "</style>\n",
       "<table border=\"1\" class=\"dataframe\">\n",
       "  <thead>\n",
       "    <tr style=\"text-align: right;\">\n",
       "      <th></th>\n",
       "      <th>West</th>\n",
       "      <th>East</th>\n",
       "      <th>Total</th>\n",
       "    </tr>\n",
       "    <tr>\n",
       "      <th>Date</th>\n",
       "      <th></th>\n",
       "      <th></th>\n",
       "      <th></th>\n",
       "    </tr>\n",
       "  </thead>\n",
       "  <tbody>\n",
       "    <tr>\n",
       "      <th>2012-10-03 00:00:00</th>\n",
       "      <td>9.0</td>\n",
       "      <td>4.0</td>\n",
       "      <td>13.0</td>\n",
       "    </tr>\n",
       "    <tr>\n",
       "      <th>2012-10-03 01:00:00</th>\n",
       "      <td>6.0</td>\n",
       "      <td>4.0</td>\n",
       "      <td>10.0</td>\n",
       "    </tr>\n",
       "    <tr>\n",
       "      <th>2012-10-03 02:00:00</th>\n",
       "      <td>1.0</td>\n",
       "      <td>1.0</td>\n",
       "      <td>2.0</td>\n",
       "    </tr>\n",
       "    <tr>\n",
       "      <th>2012-10-03 03:00:00</th>\n",
       "      <td>3.0</td>\n",
       "      <td>2.0</td>\n",
       "      <td>5.0</td>\n",
       "    </tr>\n",
       "    <tr>\n",
       "      <th>2012-10-03 04:00:00</th>\n",
       "      <td>1.0</td>\n",
       "      <td>6.0</td>\n",
       "      <td>7.0</td>\n",
       "    </tr>\n",
       "  </tbody>\n",
       "</table>\n",
       "</div>"
      ],
      "text/plain": [
       "                     West  East  Total\n",
       "Date                                  \n",
       "2012-10-03 00:00:00   9.0   4.0   13.0\n",
       "2012-10-03 01:00:00   6.0   4.0   10.0\n",
       "2012-10-03 02:00:00   1.0   1.0    2.0\n",
       "2012-10-03 03:00:00   3.0   2.0    5.0\n",
       "2012-10-03 04:00:00   1.0   6.0    7.0"
      ]
     },
     "execution_count": 101,
     "metadata": {},
     "output_type": "execute_result"
    }
   ],
   "source": [
    "# look at jvdp's example code. It basicall:\n",
    "data = pd.read_csv(unpack_dir / 'fremont.csv', index_col='Date')\n",
    "\n",
    "try:\n",
    "    data.index = pd.to_datetime(data.index, format='%m/%d/%Y %I:%M:%S %p')\n",
    "except TypeError:\n",
    "    data.index = pd.to_datetime(data.index)\n",
    "data.columns = ['West', 'East']\n",
    "data['Total'] = data['West'] + data['East']\n",
    "data.head()"
   ]
  },
  {
   "cell_type": "code",
   "execution_count": 14,
   "metadata": {},
   "outputs": [
    {
     "data": {
      "text/plain": [
       "array([[Timestamp('2012-10-03 00:00:00'), 9.0, 4.0, 13.0],\n",
       "       [Timestamp('2012-10-03 01:00:00'), 6.0, 4.0, 10.0],\n",
       "       [Timestamp('2012-10-03 02:00:00'), 1.0, 1.0, 2.0],\n",
       "       ...,\n",
       "       [Timestamp('2018-09-30 21:00:00'), 3.0, 4.0, 7.0],\n",
       "       [Timestamp('2018-09-30 22:00:00'), 2.0, 7.0, 9.0],\n",
       "       [Timestamp('2018-09-30 23:00:00'), 6.0, 4.0, 10.0]], dtype=object)"
      ]
     },
     "execution_count": 14,
     "metadata": {},
     "output_type": "execute_result"
    }
   ],
   "source": [
    "data = data.reset_index().values; data"
   ]
  },
  {
   "cell_type": "code",
   "execution_count": 25,
   "metadata": {},
   "outputs": [
    {
     "name": "stdout",
     "output_type": "stream",
     "text": [
      "Appending to ../src/data/localdata.py\n"
     ]
    }
   ],
   "source": [
    "#%%file -a ../src/data/localdata.py\n",
    "#__all__ += ['process_fremont_bike']\n",
    "def process_fremont_bike(dataset_name=\"fremont_bike\", metadata=None):\n",
    "    \"\"\"Process Seattle DoT's Fremont Bridge Hourly Bicycle Counts\n",
    "    Data is available as a CSV.\n",
    "    Parse into a pandas.Dataframe and add a total column\n",
    "    \"\"\"\n",
    "    if metadata is None:\n",
    "        metadata = {}\n",
    "    data = pd.read_csv(interim_data_path / dataset_name / 'fremont.csv', index_col='Date')\n",
    "\n",
    "    try:\n",
    "        data.index = pd.to_datetime(data.index, format='%m/%d/%Y %I:%M:%S %p')\n",
    "    except TypeError:\n",
    "        data.index = pd.to_datetime(data.index)\n",
    "    data.columns = ['West', 'East']\n",
    "    data['Total'] = data['West'] + data['East']\n",
    "\n",
    "    return {\n",
    "        \"dataset_name\":dataset_name,\n",
    "        \"metadata\": metadata,\n",
    "        \"data\":data,\n",
    "        \"target\":None\n",
    "    }"
   ]
  },
  {
   "cell_type": "code",
   "execution_count": null,
   "metadata": {},
   "outputs": [],
   "source": []
  },
  {
   "cell_type": "code",
   "execution_count": 10,
   "metadata": {},
   "outputs": [],
   "source": [
    "from src.data import process_fremont_bike"
   ]
  },
  {
   "cell_type": "code",
   "execution_count": 11,
   "metadata": {},
   "outputs": [],
   "source": [
    "raw_ds.load_function = process_fremont_bike"
   ]
  },
  {
   "cell_type": "markdown",
   "metadata": {},
   "source": [
    "### Load the Raw Dataset"
   ]
  },
  {
   "cell_type": "code",
   "execution_count": 26,
   "metadata": {},
   "outputs": [
    {
     "data": {
      "text/plain": [
       "['fremont_bike', 'lvq-pak']"
      ]
     },
     "execution_count": 26,
     "metadata": {},
     "output_type": "execute_result"
    }
   ],
   "source": [
    "# Save the raw dataset\n",
    "from src.data import Dataset\n",
    "#add_raw_dataset(raw_ds)\n",
    "\n",
    "workflow.add_raw_dataset(raw_ds)\n",
    "workflow.available_raw_datasets()"
   ]
  },
  {
   "cell_type": "code",
   "execution_count": 27,
   "metadata": {},
   "outputs": [
    {
     "data": {
      "text/plain": [
       "[]"
      ]
     },
     "execution_count": 27,
     "metadata": {},
     "output_type": "execute_result"
    }
   ],
   "source": [
    "#from src.paths import src_module_dir\n",
    "#dataset_list_fq = src_module_dir / 'data' / 'datasets.json'\n",
    "#dataset_list = load_json(dataset_list_fq)\n",
    "\n",
    "# workflow.create_dataset(raw_dataset_name=raw_ds.name) \n",
    "workflow.available_datasets()"
   ]
  },
  {
   "cell_type": "code",
   "execution_count": 28,
   "metadata": {},
   "outputs": [
    {
     "data": {
      "text/plain": [
       "[{'output_dataset': 'fremont_bike', 'raw_dataset_name': 'fremont_bike'}]"
      ]
     },
     "execution_count": 28,
     "metadata": {},
     "output_type": "execute_result"
    }
   ],
   "source": [
    "workflow.get_transformer_list()\n",
    "#dataset_list.append({\"output_dataset\":'fremont_bike', 'raw_dataset_name':'fremont_bike'})"
   ]
  },
  {
   "cell_type": "code",
   "execution_count": 29,
   "metadata": {},
   "outputs": [
    {
     "data": {
      "text/plain": [
       "[{'output_dataset': 'fremont_bike', 'raw_dataset_name': 'fremont_bike'},\n",
       " {'output_dataset': 'fremont_bike', 'raw_dataset_name': 'fremont_bike'}]"
      ]
     },
     "execution_count": 29,
     "metadata": {},
     "output_type": "execute_result"
    }
   ],
   "source": [
    "workflow.add_transformer(from_raw='fremont_bike')\n",
    "workflow.get_transformer_list()"
   ]
  },
  {
   "cell_type": "code",
   "execution_count": 30,
   "metadata": {},
   "outputs": [
    {
     "data": {
      "text/plain": [
       "[{'output_dataset': 'fremont_bike', 'raw_dataset_name': 'fremont_bike'}]"
      ]
     },
     "execution_count": 30,
     "metadata": {},
     "output_type": "execute_result"
    }
   ],
   "source": [
    "workflow.del_transformer(-1)\n",
    "workflow.get_transformer_list()"
   ]
  },
  {
   "cell_type": "code",
   "execution_count": 31,
   "metadata": {},
   "outputs": [
    {
     "name": "stdout",
     "output_type": "stream",
     "text": [
      "python3 -m src.data.apply_transforms transformer_list.json\n",
      "2018-10-13 14:10:03,032 - apply_transforms - INFO - Transforming datasets from transformer_list.json\n",
      "2018-10-13 14:10:03,062 - apply_transforms - INFO - Writing transformed Dataset: fremont_bike\n"
     ]
    }
   ],
   "source": [
    "!cd .. &&  make process_data"
   ]
  },
  {
   "cell_type": "code",
   "execution_count": 32,
   "metadata": {},
   "outputs": [
    {
     "data": {
      "text/plain": [
       "['fremont_bike']"
      ]
     },
     "execution_count": 32,
     "metadata": {},
     "output_type": "execute_result"
    }
   ],
   "source": [
    "workflow.available_datasets()"
   ]
  },
  {
   "cell_type": "markdown",
   "metadata": {},
   "source": [
    "## Work with the Dataset"
   ]
  },
  {
   "cell_type": "code",
   "execution_count": 19,
   "metadata": {},
   "outputs": [],
   "source": [
    "ds = Dataset.load('fremont_bike')"
   ]
  },
  {
   "cell_type": "code",
   "execution_count": 20,
   "metadata": {},
   "outputs": [
    {
     "data": {
      "text/plain": [
       "(52536, 3)"
      ]
     },
     "execution_count": 20,
     "metadata": {},
     "output_type": "execute_result"
    }
   ],
   "source": [
    "ds.data.shape"
   ]
  },
  {
   "cell_type": "code",
   "execution_count": 21,
   "metadata": {},
   "outputs": [
    {
     "data": {
      "text/plain": [
       "pandas.core.frame.DataFrame"
      ]
     },
     "execution_count": 21,
     "metadata": {},
     "output_type": "execute_result"
    }
   ],
   "source": [
    "type(ds.data)"
   ]
  },
  {
   "cell_type": "code",
   "execution_count": 22,
   "metadata": {},
   "outputs": [
    {
     "data": {
      "text/html": [
       "<div>\n",
       "<style scoped>\n",
       "    .dataframe tbody tr th:only-of-type {\n",
       "        vertical-align: middle;\n",
       "    }\n",
       "\n",
       "    .dataframe tbody tr th {\n",
       "        vertical-align: top;\n",
       "    }\n",
       "\n",
       "    .dataframe thead th {\n",
       "        text-align: right;\n",
       "    }\n",
       "</style>\n",
       "<table border=\"1\" class=\"dataframe\">\n",
       "  <thead>\n",
       "    <tr style=\"text-align: right;\">\n",
       "      <th></th>\n",
       "      <th>West</th>\n",
       "      <th>East</th>\n",
       "      <th>Total</th>\n",
       "    </tr>\n",
       "    <tr>\n",
       "      <th>Date</th>\n",
       "      <th></th>\n",
       "      <th></th>\n",
       "      <th></th>\n",
       "    </tr>\n",
       "  </thead>\n",
       "  <tbody>\n",
       "    <tr>\n",
       "      <th>2012-10-03 00:00:00</th>\n",
       "      <td>9.0</td>\n",
       "      <td>4.0</td>\n",
       "      <td>13.0</td>\n",
       "    </tr>\n",
       "    <tr>\n",
       "      <th>2012-10-03 01:00:00</th>\n",
       "      <td>6.0</td>\n",
       "      <td>4.0</td>\n",
       "      <td>10.0</td>\n",
       "    </tr>\n",
       "    <tr>\n",
       "      <th>2012-10-03 02:00:00</th>\n",
       "      <td>1.0</td>\n",
       "      <td>1.0</td>\n",
       "      <td>2.0</td>\n",
       "    </tr>\n",
       "    <tr>\n",
       "      <th>2012-10-03 03:00:00</th>\n",
       "      <td>3.0</td>\n",
       "      <td>2.0</td>\n",
       "      <td>5.0</td>\n",
       "    </tr>\n",
       "    <tr>\n",
       "      <th>2012-10-03 04:00:00</th>\n",
       "      <td>1.0</td>\n",
       "      <td>6.0</td>\n",
       "      <td>7.0</td>\n",
       "    </tr>\n",
       "  </tbody>\n",
       "</table>\n",
       "</div>"
      ],
      "text/plain": [
       "                     West  East  Total\n",
       "Date                                  \n",
       "2012-10-03 00:00:00   9.0   4.0   13.0\n",
       "2012-10-03 01:00:00   6.0   4.0   10.0\n",
       "2012-10-03 02:00:00   1.0   1.0    2.0\n",
       "2012-10-03 03:00:00   3.0   2.0    5.0\n",
       "2012-10-03 04:00:00   1.0   6.0    7.0"
      ]
     },
     "execution_count": 22,
     "metadata": {},
     "output_type": "execute_result"
    }
   ],
   "source": [
    "ds.data.head()"
   ]
  },
  {
   "cell_type": "code",
   "execution_count": 31,
   "metadata": {},
   "outputs": [
    {
     "data": {
      "text/plain": [
       "(52536,)"
      ]
     },
     "execution_count": 31,
     "metadata": {},
     "output_type": "execute_result"
    }
   ],
   "source": [
    "### Create a transformer to pivot the data\n",
    "#ds.data.pivot_table()\n",
    "ds.data.index.time.shape"
   ]
  },
  {
   "cell_type": "code",
   "execution_count": 56,
   "metadata": {},
   "outputs": [],
   "source": [
    "def index_to_date_time(dset, suffix='dt'):\n",
    "    \"\"\"Transformer: Extract a datetime index into Date and Time columns\"\"\"\n",
    "    df = dset.data.copy()\n",
    "    df['Time']=df.index.time\n",
    "    df['Date']=df.index.date\n",
    "    df.reset_index(inplace=True, drop=True)\n",
    "    new_ds = Dataset(dataset_name=f\"{dset.name}_{suffix}\", metadata=dset.metadata, data=df)\n",
    "    return new_ds"
   ]
  },
  {
   "cell_type": "code",
   "execution_count": 58,
   "metadata": {},
   "outputs": [],
   "source": [
    "ds2 = index_to_date_time(ds)"
   ]
  },
  {
   "cell_type": "code",
   "execution_count": 60,
   "metadata": {},
   "outputs": [],
   "source": [
    "# A transformer takes a dataset and returns a dataset\n",
    "def pivot(dset, **pivot_opts):\n",
    "    \"\"\"Pivot data stored as a Pandas Dataframe\n",
    "    \n",
    "    pivot_opts:\n",
    "        keyword arguments passed to pandas.Dataframe.pivot_table\n",
    "    \"\"\"\n",
    "    pivoted = dset.data.pivot_table(i**pivot_opts)\n",
    "    ds_pivot = Dataset(name=f\"{dset.name}_pivoted\", metadata=dset.metadata, data=pivoted, target=None)\n",
    "    ds_pivot.metadata['pivot_opts'] = pivot_opts\n",
    "\n",
    "    return ds_pivot\n"
   ]
  },
  {
   "cell_type": "code",
   "execution_count": 61,
   "metadata": {},
   "outputs": [],
   "source": [
    "dsp = datetime_pivot(ds, values='Total')"
   ]
  },
  {
   "cell_type": "code",
   "execution_count": 20,
   "metadata": {},
   "outputs": [
    {
     "data": {
      "text/plain": [
       "(24, 2189)"
      ]
     },
     "execution_count": 20,
     "metadata": {},
     "output_type": "execute_result"
    }
   ],
   "source": [
    "dsp.data.shape"
   ]
  },
  {
   "cell_type": "code",
   "execution_count": 14,
   "metadata": {},
   "outputs": [
    {
     "name": "stderr",
     "output_type": "stream",
     "text": [
      "2018-10-12 21:26:58,673 - _base - DEBUG - update_title_pos\n",
      "2018-10-12 21:26:58,682 - font_manager - DEBUG - findfont: Matching :family=sans-serif:style=normal:variant=normal:weight=normal:stretch=normal:size=10.0 to Arial ('/Library/Fonts/Arial.ttf') with score of 0.050000.\n",
      "2018-10-12 21:26:58,695 - font_manager - DEBUG - findfont: Matching :family=sans-serif:style=normal:variant=normal:weight=normal:stretch=normal:size=11.0 to Arial ('/Library/Fonts/Arial.ttf') with score of 0.050000.\n",
      "2018-10-12 21:26:59,224 - _base - DEBUG - update_title_pos\n",
      "2018-10-12 21:26:59,746 - _base - DEBUG - update_title_pos\n",
      "2018-10-12 21:27:00,319 - _base - DEBUG - update_title_pos\n",
      "2018-10-12 21:27:00,692 - _base - DEBUG - update_title_pos\n"
     ]
    },
    {
     "data": {
      "image/png": "[encoded data removed]",
      "text/plain": [
       "<Figure size 576x396 with 1 Axes>"
      ]
     },
     "metadata": {},
     "output_type": "display_data"
    }
   ],
   "source": [
    "dsp.data.plot(legend=False, alpha=0.01);"
   ]
  },
  {
   "cell_type": "code",
   "execution_count": 23,
   "metadata": {},
   "outputs": [],
   "source": [
    "from src.data.transformers import available_transformers"
   ]
  },
  {
   "cell_type": "code",
   "execution_count": 24,
   "metadata": {},
   "outputs": [
    {
     "data": {
      "text/plain": [
       "dict_keys(['datetime_pivot', 'index_to_date_time', 'pivot', 'train_test_split'])"
      ]
     },
     "execution_count": 24,
     "metadata": {},
     "output_type": "execute_result"
    }
   ],
   "source": [
    "available_transformers().keys()"
   ]
  },
  {
   "cell_type": "code",
   "execution_count": 43,
   "metadata": {},
   "outputs": [],
   "source": [
    "from src.paths import src_module_dir\n",
    "\n",
    "transform_pipeline = [\n",
    "    ('index_to_date_time',{}),\n",
    "    ('pivot', {'values':'Total', 'index':'Time', 'columns':'Date'})\n",
    "]\n",
    "\n",
    "workflow.add_transformer(from_raw=\"fremont_bike\", output_dataset=\"fremont_bike_pivot\", transformations=transform_pipeline)\n",
    "workflow.add_transformer(input_dataset=\"fremont_bike\", output_dataset=\"fremont_bike_pivot2\", transformations=transform_pipeline)\n"
   ]
  },
  {
   "cell_type": "code",
   "execution_count": 44,
   "metadata": {},
   "outputs": [
    {
     "data": {
      "text/plain": [
       "[{'output_dataset': 'fremont_bike', 'raw_dataset_name': 'fremont_bike'},\n",
       " {'output_dataset': 'fremont_bike_pivot',\n",
       "  'raw_dataset_name': 'fremont_bike',\n",
       "  'transformations': [['index_to_date_time', {}],\n",
       "   ['pivot', {'columns': 'Date', 'index': 'Time', 'values': 'Total'}]]},\n",
       " {'input_dataset': 'fremont_bike',\n",
       "  'output_dataset': 'fremont_bike_pivot2',\n",
       "  'transformations': [['index_to_date_time', {}],\n",
       "   ['pivot', {'columns': 'Date', 'index': 'Time', 'values': 'Total'}]]}]"
      ]
     },
     "execution_count": 44,
     "metadata": {},
     "output_type": "execute_result"
    }
   ],
   "source": [
    "workflow.get_transformer_list()"
   ]
  },
  {
   "cell_type": "code",
   "execution_count": 48,
   "metadata": {},
   "outputs": [
    {
     "name": "stdout",
     "output_type": "stream",
     "text": [
      "python3 -m src.data.apply_transforms transformer_list.json\n",
      "2018-10-13 14:14:55,399 - apply_transforms - INFO - Transforming datasets from transformer_list.json\n",
      "2018-10-13 14:14:55,454 - apply_transforms - INFO - Writing transformed Dataset: fremont_bike\n",
      "2018-10-13 14:14:57,461 - apply_transforms - INFO - Writing transformed Dataset: fremont_bike_pivot\n",
      "2018-10-13 14:14:59,447 - apply_transforms - INFO - Writing transformed Dataset: fremont_bike_pivot2\n"
     ]
    }
   ],
   "source": [
    "!cd .. && make process_data"
   ]
  },
  {
   "cell_type": "code",
   "execution_count": 49,
   "metadata": {},
   "outputs": [
    {
     "data": {
      "text/plain": [
       "['fremont_bike', 'fremont_bike_pivot', 'fremont_bike_pivot2']"
      ]
     },
     "execution_count": 49,
     "metadata": {},
     "output_type": "execute_result"
    }
   ],
   "source": [
    "workflow.available_datasets()"
   ]
  },
  {
   "cell_type": "code",
   "execution_count": 50,
   "metadata": {},
   "outputs": [
    {
     "data": {
      "text/plain": [
       "'2439f0389f64f726b1db03debbc15129821061b7'"
      ]
     },
     "execution_count": 50,
     "metadata": {},
     "output_type": "execute_result"
    }
   ],
   "source": [
    "dsp = Dataset.load('fremont_bike_pivot')\n",
    "dsp.DATA_HASH"
   ]
  },
  {
   "cell_type": "code",
   "execution_count": 52,
   "metadata": {},
   "outputs": [
    {
     "data": {
      "text/plain": [
       "'2439f0389f64f726b1db03debbc15129821061b7'"
      ]
     },
     "execution_count": 52,
     "metadata": {},
     "output_type": "execute_result"
    }
   ],
   "source": [
    "dsp2 = Dataset.load('fremont_bike_pivot2')\n",
    "dsp2.DATA_HASH"
   ]
  },
  {
   "cell_type": "code",
   "execution_count": 42,
   "metadata": {},
   "outputs": [
    {
     "name": "stderr",
     "output_type": "stream",
     "text": [
      "2018-10-13 14:12:32,547 - _base - DEBUG - update_title_pos\n",
      "2018-10-13 14:12:32,557 - font_manager - DEBUG - findfont: Matching :family=sans-serif:style=normal:variant=normal:weight=normal:stretch=normal:size=10.0 to Arial ('/Library/Fonts/Arial.ttf') with score of 0.050000.\n",
      "2018-10-13 14:12:32,572 - font_manager - DEBUG - findfont: Matching :family=sans-serif:style=normal:variant=normal:weight=normal:stretch=normal:size=11.0 to Arial ('/Library/Fonts/Arial.ttf') with score of 0.050000.\n",
      "2018-10-13 14:12:33,084 - _base - DEBUG - update_title_pos\n",
      "2018-10-13 14:12:33,537 - _base - DEBUG - update_title_pos\n",
      "2018-10-13 14:12:34,092 - _base - DEBUG - update_title_pos\n",
      "2018-10-13 14:12:34,441 - _base - DEBUG - update_title_pos\n"
     ]
    },
    {
     "data": {
      "image/png": "[encoded data removed]",
      "text/plain": [
       "<Figure size 432x288 with 1 Axes>"
      ]
     },
     "metadata": {
      "needs_background": "light"
     },
     "output_type": "display_data"
    }
   ],
   "source": [
    "dsp.data.plot(legend=False, alpha=0.01);"
   ]
  },
  {
   "cell_type": "code",
   "execution_count": 32,
   "metadata": {},
   "outputs": [
    {
     "data": {
      "text/plain": [
       "(24, 2189)"
      ]
     },
     "execution_count": 32,
     "metadata": {},
     "output_type": "execute_result"
    }
   ],
   "source": [
    "dsp.data.shape"
   ]
  },
  {
   "cell_type": "code",
   "execution_count": null,
   "metadata": {},
   "outputs": [],
   "source": []
  }
 ],
 "metadata": {
  "kernelspec": {
   "display_name": "Python [conda env:bus_number]",
   "language": "python",
   "name": "conda-env-bus_number-py"
  },
  "language_info": {
   "codemirror_mode": {
    "name": "ipython",
    "version": 3
   },
   "file_extension": ".py",
   "mimetype": "text/x-python",
   "name": "python",
   "nbconvert_exporter": "python",
   "pygments_lexer": "ipython3",
   "version": "3.7.0"
  }
 },
 "nbformat": 4,
 "nbformat_minor": 2
}
