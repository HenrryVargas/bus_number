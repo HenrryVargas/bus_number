{
 "cells": [
  {
   "cell_type": "markdown",
   "metadata": {},
   "source": [
    "## Tutorial 1: Reproducible Environment\n",
    "\n",
    "* Templates: cookiecutter\n",
    "\n",
    "* Revision Control: git and a git workflow\n",
    "   * Installing, Enabling, and using nbdime\n",
    "     \n",
    "* Virtualenv: conda / pipenv\n",
    "* Data Science is a DAG\n",
    "   * make, Makefiles and data flow\n",
    "* Python Modules\n",
    "   * Creating an editable module\n",
    "* Testing: doctest, pytest, hypothesis"
   ]
  },
  {
   "cell_type": "markdown",
   "metadata": {},
   "source": [
    "# Templates: `cookiecutter`\n",
    "\n",
    "\n",
    "\n",
    "1. Install [cookiecutter](https://cookiecutter.readthedocs.io/en/latest/installation.html):\n",
    "```\n",
    "conda install -c conda-forge cookiecutter\n",
    "```\n",
    "2. Use cookiecutter to install the `pydata_nyc` branch of `cookiecutter-easydata`:\n",
    "\n",
    "```\n",
    "cookiecutter https://github.com/hackalog/cookiecutter-easydata.git --checkout pydata_nyc\n",
    "```\n",
    "\n",
    "3. Configure a new project. Call it **bus_number**:\n",
    "<pre>\n",
    "project_name [project_name]: <b>bus_number</b>\n",
    "repo_name [bus_number]: <b>↵</b>\n",
    "module_name [src]: <b>↵</b>\n",
    "author_name [Your name (or your organization/company/team)]: <b>Kjell Wooding</b>\n",
    "description [A short description of this project.]: <b>Reproducible Data Science</b>\n",
    "Select open_source_license:\n",
    "1 - MIT\n",
    "2 - BSD-2-Clause\n",
    "3 - Proprietary\n",
    "Choose from 1, 2, 3 [1]: <b>↵</b>\n",
    "s3_bucket [[OPTIONAL] your-bucket-for-syncing-data (do not include 's3://')]: <b>↵</b>\n",
    "aws_profile [default]: <b>↵</b>\n",
    "Select virtualenv:\n",
    "1 - conda\n",
    "2 - virtualenv\n",
    "Choose from 1, 2 [1]: <b>↵</b>\n",
    "Select python_interpreter:\n",
    "1 - python3\n",
    "2 - python\n",
    "Choose from 1, 2 [1]: <b>↵</b>\n",
    "</pre>\n",
    "\n"
   ]
  },
  {
   "cell_type": "markdown",
   "metadata": {},
   "source": [
    "## Revision Control: `git` and a git workflow\n",
    "\n",
    "What do we mean by workflow? A process built on top of git that incorporates **pull requests** and **branches**. Typically, this is provided by sites like: GitHub, GitLab, BitBucket.\n"
   ]
  },
  {
   "cell_type": "markdown",
   "metadata": {},
   "source": [
    "```\n",
    "cd bus_number\n",
    "git init\n",
    "git add .\n",
    "git commit -m \"Initial Import\"\n",
    "```"
   ]
  },
  {
   "cell_type": "markdown",
   "metadata": {},
   "source": [
    "# TODO: Fill in an easy git tutorial\n",
    "    "
   ]
  },
  {
   "cell_type": "markdown",
   "metadata": {},
   "source": [
    "## Life Rules for using `git`\n",
    "\n",
    "* Always work on a branch: `git checkout -b my_branch_name`. Delete branches once they are merged.\n",
    "* **Never** push to master. Always **work on a branch** and do a pull request.\n",
    "* Seriously, don't do work on master.\n",
    "* If you pushed it anywhere, don't `git rebase`. In fact, if you're reading this, don't `git rebase`.\n"
   ]
  },
  {
   "cell_type": "markdown",
   "metadata": {},
   "source": [
    "## Exercise: \n",
    "\n",
    "Create a GitHub/GitLab/BitBucket repo and sync to it.\n"
   ]
  },
  {
   "cell_type": "code",
   "execution_count": null,
   "metadata": {},
   "outputs": [],
   "source": []
  },
  {
   "cell_type": "code",
   "execution_count": null,
   "metadata": {},
   "outputs": [],
   "source": []
  },
  {
   "cell_type": "markdown",
   "metadata": {},
   "source": [
    "##  Virtual Environments\n",
    "\n",
    "It's impossible to have Reproducible Data Science, without **reproducible code**. If your code, run by someone else (or on a different machine) produces different results, then it is not reproducible. To fix this, we need to have a reproducible environment.\n",
    "\n",
    "In short, we need **virtual environments**. In this case, we're going to use `conda` as this is the most common choice within this community. Furthermore, we use an **environment file** to specify to a user which packages need to be install to run our code.\n",
    "    \n",
    "Two `make` commands  ensure that we have the appropriate environment:\n",
    "* `make create_environment`: for the initial creation of a project specific conda environment\n",
    "* `make requirements`: to update our environment to the latest version of the `environment.yml` specs.\n",
    "\n",
    "We will get to `make` in the next section.\n",
    "\n",
    "**Caveat**: Technically speaking, as implemeted in this workflow, a `conda` environment is **not reproducible**. Even if you specify a specific version of a package in your `environment.yml`, the way its dependencies get resolved may differ in their versions. One way to fix this is to have an additional file called a **lockfile** that ensure that the environment is completely reproducible (eg. `pipenv` does this). This is the **right way** to handle such things, and we are hoping conda catches up quickly. In the meantime, we've simulated this behavior using an `environment.yml` and an `environment.lock` file generated from it.\n"
   ]
  },
  {
   "cell_type": "markdown",
   "metadata": {},
   "source": [
    "Let's create this environment and start using it\n",
    "\n",
    "```\n",
    "make create_environment\n",
    "conda activate bus_number   # or `source activate bus_number`\n",
    "make requirements\n",
    "```"
   ]
  },
  {
   "cell_type": "markdown",
   "metadata": {},
   "source": [
    "### Exercise\n",
    "Add the following packages to your environment file and update your environment:\n",
    "* scikit-learn (via conda)\n",
    "* umap-learn (via pip)"
   ]
  },
  {
   "cell_type": "code",
   "execution_count": null,
   "metadata": {},
   "outputs": [],
   "source": []
  },
  {
   "cell_type": "code",
   "execution_count": null,
   "metadata": {},
   "outputs": [],
   "source": []
  },
  {
   "cell_type": "markdown",
   "metadata": {},
   "source": [
    "### Exercise\n",
    "Check in these changes using git"
   ]
  },
  {
   "cell_type": "code",
   "execution_count": null,
   "metadata": {},
   "outputs": [],
   "source": []
  },
  {
   "cell_type": "code",
   "execution_count": null,
   "metadata": {},
   "outputs": [],
   "source": []
  },
  {
   "cell_type": "markdown",
   "metadata": {},
   "source": [
    "## Data Science is a DAG\n",
    "DAG = Directed Acyclic Graph. \n",
    "\n",
    "That means the process eventually stops. (This is a good thing!) \n",
    "\n",
    "It also means we can use a super old, but incredibly handy tool to implement this workflow: `make`.\n",
    "\n",
    "### Make, Makefiles, and the Data Flow\n",
    "\n",
    "\n",
    "We use a `Makefile` to organize and invoke the various steps in our Data Science pipeline.\n",
    "You have already used this file when you created your virtual environment in the first place:\n",
    "```\n",
    "make create_environment\n",
    "```\n",
    "Here are the steps we will be working through in this tutorial:\n",
    "<img src=\"references/cheat_sheet.png\" alt=\"Reproducible Data Science Workflow\" width=\"400\"/>\n",
    "\n",
    "A [PDF version of the cheat sheet](references/cheat_sheet.pdf) is also available.\n"
   ]
  },
  {
   "cell_type": "markdown",
   "metadata": {},
   "source": [
    "\n",
    "### What's my make target doing?\n",
    "If you are ever curious what commands a `make` command will invoke (including any invoked dependencies), use `make -n`, which lists the commands without executing them:"
   ]
  },
  {
   "cell_type": "code",
   "execution_count": null,
   "metadata": {},
   "outputs": [],
   "source": [
    "%%bash\n",
    "cd .. && make -n requirements"
   ]
  },
  {
   "cell_type": "markdown",
   "metadata": {},
   "source": [
    "We use a cute **self-documenting makefiles trick** (borrowed from `cookiecutter-datascience`) to make it easy to document the various targets that you add. This documentation is produced when you type a plain `make`:"
   ]
  },
  {
   "cell_type": "code",
   "execution_count": null,
   "metadata": {},
   "outputs": [],
   "source": [
    "%%bash\n",
    "cd .. && make"
   ]
  },
  {
   "cell_type": "markdown",
   "metadata": {},
   "source": [
    "### Under the Hood: The Format of a Makefile\n",
    "\n",
    "```\n",
    "## Comment to appear in the auto-generated documentation\n",
    "thing_to_build: space separated list of dependencies\n",
    "\tcommand_to_run            # there is a tab before this command.\n",
    "\tanother_command_to_run    # every line gets run in a *new shell*\n",
    "```\n",
    "\n"
   ]
  },
  {
   "cell_type": "code",
   "execution_count": null,
   "metadata": {},
   "outputs": [],
   "source": [
    "%%file Makefile.test\n",
    "\n",
    "data: raw\n",
    "\t@echo \"Build Datasets\"\n",
    "train_test_split:\n",
    "\t@echo \"do train/test split\"\n",
    "train: data transform_data train_test_split\n",
    "\t@echo \"Train Models\"\n",
    "transform_data:\n",
    "\t@echo \"do a data transformation\"\n",
    "raw:\n",
    "\t@echo \"Fetch raw data\"\n"
   ]
  },
  {
   "cell_type": "markdown",
   "metadata": {},
   "source": [
    "If you see: ```*** missing separator.  Stop.``` it's because you have used spaces instead of **tabs** before your commands. "
   ]
  },
  {
   "cell_type": "code",
   "execution_count": null,
   "metadata": {},
   "outputs": [],
   "source": [
    "%%bash\n",
    "make -f Makefile.test train"
   ]
  },
  {
   "cell_type": "code",
   "execution_count": null,
   "metadata": {},
   "outputs": [],
   "source": [
    "%%file Makefile.test\n",
    "\n",
    "cycle: cycle_b\n",
    "\t@echo \"in a Makefile\"\n",
    "cycle_b: cycle_c\n",
    "\t@echo \"have a cycle\"\n",
    "cycle_c: cycle\n",
    "\t@echo \"You can't\""
   ]
  },
  {
   "cell_type": "code",
   "execution_count": null,
   "metadata": {},
   "outputs": [],
   "source": [
    "%%bash\n",
    "make -f Makefile.test cycle"
   ]
  },
  {
   "cell_type": "markdown",
   "metadata": {},
   "source": [
    "Using a Makefile like this is an easy way to set up a process flow expressed as a Directed Acyclic Graph (DAG).\n",
    "\n",
    "**Note**: We have only scratched the surface here. The are lots of interesting tricks you can do with make.\n",
    "* http://zmjones.com/make/\n",
    "* http://blog.byronjsmith.com/makefile-shortcuts.html\n",
    "* https://www.gnu.org/software/make/manual/\n"
   ]
  },
  {
   "cell_type": "code",
   "execution_count": null,
   "metadata": {},
   "outputs": [],
   "source": []
  },
  {
   "cell_type": "markdown",
   "metadata": {},
   "source": [
    "# TODO: Add some exercises here"
   ]
  },
  {
   "cell_type": "markdown",
   "metadata": {},
   "source": [
    "## Python Modules\n",
    "By default, we keep our source code in a module called `src`. \n",
    "\n",
    "This is enabled via one line in environment.yml:\n",
    "```\n",
    "- pip:\n",
    "  - -e .\n",
    "```\n",
    "\n",
    "This creates an **editable module**, and looks in the current directory for a file called `setup.py`"
   ]
  },
  {
   "cell_type": "code",
   "execution_count": null,
   "metadata": {},
   "outputs": [],
   "source": [
    "# %load ../setup.py\n",
    "from setuptools import find_packages, setup\n",
    "\n",
    "setup(\n",
    "    name='src',\n",
    "    packages=find_packages(),\n",
    "    version='0.0.1',\n",
    "    description='Up Your Bus Number: A Primer for Reproducible Data Science',\n",
    "    author='Tutte Institute for Mathematics and Computing',\n",
    "    license='MIT',\n",
    ")\n"
   ]
  },
  {
   "cell_type": "markdown",
   "metadata": {},
   "source": [
    "This lets you easily use your code in notebooks and other scripts, and avoids any `sys.path.append` silliness"
   ]
  },
  {
   "cell_type": "markdown",
   "metadata": {},
   "source": [
    "### Exercise\n",
    "* add your favorite utility function to `src/utils`\n",
    "* run `make requirements` (required if you added dependencies for your utility function)\n",
    "* import and run it from this notebook"
   ]
  },
  {
   "cell_type": "markdown",
   "metadata": {},
   "source": [
    "# TODO: fill out this section if need be"
   ]
  },
  {
   "cell_type": "markdown",
   "metadata": {},
   "source": [
    "## Testing: doctest, pytest, Continuous Integration (CI)\n",
    "\n",
    "Optional: Hypothesis and property-based testing\n",
    "\n",
    "# TODO: Add some failing tests that need correcting"
   ]
  },
  {
   "cell_type": "markdown",
   "metadata": {},
   "source": [
    "### Exercise:\n",
    "Add a `make test` target to your makefile that:\n",
    "* runs doctests\n",
    "* runs pytest unit tests\n",
    "* (extra credit) Displays test coverage results\n",
    "    \n",
    "These will fail. Don't fix them yet."
   ]
  },
  {
   "cell_type": "markdown",
   "metadata": {},
   "source": [
    "### Exercise:\n",
    "* Hook your github repo to CI"
   ]
  },
  {
   "cell_type": "markdown",
   "metadata": {},
   "source": [
    "### Exercise:\n",
    "fix the failing tests"
   ]
  },
  {
   "cell_type": "code",
   "execution_count": null,
   "metadata": {},
   "outputs": [],
   "source": []
  },
  {
   "cell_type": "code",
   "execution_count": null,
   "metadata": {},
   "outputs": [],
   "source": []
  },
  {
   "cell_type": "markdown",
   "metadata": {},
   "source": [
    "### ASIDE: Our Favourite Python Parts\n",
    "Why the `python>=3.6` requirement?\n",
    "* f-strings: Finally, long, readable strings in our code.\n",
    "* dictionaries: insertion order is preserved!\n",
    "\n",
    "Other great tools:\n",
    "* `pathlib`: Sane, multiplatorm path handling: https://realpython.com/python-pathlib/\n",
    "* `doctest`: Examples that always work: https://docs.python.org/3/library/doctest.html\n",
    "* `joblib`: Especially the persistence part: https://joblib.readthedocs.io/en/latest/persistence.html\n"
   ]
  },
  {
   "cell_type": "markdown",
   "metadata": {},
   "source": [
    "\n"
   ]
  },
  {
   "cell_type": "code",
   "execution_count": null,
   "metadata": {},
   "outputs": [],
   "source": []
  }
 ],
 "metadata": {
  "kernelspec": {
   "display_name": "Python [conda env:bus_number]",
   "language": "python",
   "name": "conda-env-bus_number-py"
  },
  "language_info": {
   "codemirror_mode": {
    "name": "ipython",
    "version": 3
   },
   "file_extension": ".py",
   "mimetype": "text/x-python",
   "name": "python",
   "nbconvert_exporter": "python",
   "pygments_lexer": "ipython3",
   "version": "3.7.0"
  }
 },
 "nbformat": 4,
 "nbformat_minor": 2
}
