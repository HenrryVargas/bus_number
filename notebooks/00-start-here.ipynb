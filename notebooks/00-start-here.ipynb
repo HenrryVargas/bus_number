{
 "cells": [
  {
   "cell_type": "markdown",
   "metadata": {},
   "source": [
    "# Start Here\n",
    "\n",
    "This notebook is all about **getting you started doing Reproducible Data Science** , and giving you a **deeper look** at some of the concepts we will cover in this tutorial. For the latest version of this notebook, visit: \n",
    "\n",
    "    https://github.com/hackalog/bus_number\n",
    "\n",
    "## The Bare Minimum\n",
    "You will need:\n",
    "* `conda` (via anaconda or miniconda)\n",
    "* `cookiecutter` \n",
    "* `make`\n",
    "* `git`\n",
    "* `python >= 3.6` (via `conda`)\n",
    "\n",
    "### Installing Anaconda\n",
    "We use `conda` for handling package dependencies, maintaining virtual environments, and installing particular version of python. For proper integration with pip, you should make sure you are running conda >= 4.4.0. Some earlier versions of conda have difficulty with editable packages (which is how we install our `src` package)\n",
    "\n",
    "* See the [https://conda.io/docs/user-guide/install/index.html Anadonda installation guide] for details\n",
    "\n",
    "### Installing Cookiecutter\n",
    "`cookiecutter` is a python tool for creating projects from project templates. We use cookiecutter to create a reproducible data science template for starting our data science projects.\n",
    "\n",
    "To install it:\n",
    "\n",
    "  conda install -c conda-forge cookiecutter\n",
    "\n",
    "### make\n",
    "We use gnu `make` (and `Makefiles`) as a convenient interface to the various stages of the reproducible data science data flow. If for some reason your system doesn't have make installed, try:\n",
    "\n",
    "  conda install -c anaconda make\n",
    "\n",
    "### git\n",
    "We use git (in conjunction with a workflow tool like GitHub, BitBucket, or GitLab) to manage version control. \n",
    "\n",
    "Atlassian has good [https://www.atlassian.com/git/tutorials/install-git\n",
    " instructions for installing git] if it is not already available on your platform.\n"
   ]
  },
  {
   "cell_type": "markdown",
   "metadata": {},
   "source": [
    "\n",
    "## The Reproducible Data Science Process\n",
    "### How do you spend your \"Data Science\" time?\n",
    "A typical data science process involves three main kinds of tasks:\n",
    "* Munge: Fetch, process data, do EDA\n",
    "* Science: Train models, Predict, Transform data\n",
    "* Deliver: Analyze, summarize, publish\n",
    "\n",
    "where our time tends to be allocated something like this:\n",
    "\n",
    "<img src=\"charts/munge-supervised.png\" alt=\"Typical Data science Process\" width=500/>\n",
    "\n",
    "Unfortunately, even though most of the work tends to be in the **munge** part of the process, when we do try and make data science reproducible, we tend to focus mainly on reprodibility of the **science** step.\n",
    "\n",
    "That seems like a bad idea, especially if we're doing unsupervised learning, where often our time is spent like this:\n",
    "\n",
    "<img src=\"charts/munge-unsupervised.png\" alt=\"Typical Data science Process\" width=500/>\n",
    "\n",
    "We're going to try to improve this to a process that is **reproducible from start to finish**. \n",
    "\n",
    "There are 4 steps to a fully reproducible data science flow:\n",
    "* Creating a **Reproducible Environment**\n",
    "* Creating **Reproducible Data**\n",
    "* Building **Reproducible Models**\n",
    "* Achieving **Reproducible Results**\n",
    "\n",
    "In the next few notebooks, we will look at each of these steps in turn."
   ]
  },
  {
   "cell_type": "code",
   "execution_count": null,
   "metadata": {},
   "outputs": [],
   "source": []
  },
  {
   "cell_type": "code",
   "execution_count": null,
   "metadata": {},
   "outputs": [],
   "source": []
  }
 ],
 "metadata": {
  "kernelspec": {
   "display_name": "Python 3",
   "language": "python",
   "name": "python3"
  },
  "language_info": {
   "codemirror_mode": {
    "name": "ipython",
    "version": 3
   },
   "file_extension": ".py",
   "mimetype": "text/x-python",
   "name": "python",
   "nbconvert_exporter": "python",
   "pygments_lexer": "ipython3",
   "version": "3.6.5"
  }
 },
 "nbformat": 4,
 "nbformat_minor": 2
}
