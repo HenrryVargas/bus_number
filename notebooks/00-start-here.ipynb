{
 "cells": [
  {
   "cell_type": "markdown",
   "metadata": {},
   "source": [
    "# Start Here\n",
    "\n",
    "This notebook is all about **getting you started doing Reproducible Data Science** , and giving you a **deeper look** at some of the concepts we will cover in this tutorial. For the latest version of this notebook, visit: \n",
    "\n",
    "    https://github.com/hackalog/bus_number\n",
    "\n",
    "## The Bare Minimum\n",
    "You will need:\n",
    "* `conda` (and then `python >= 3.6`)\n",
    "* `cookiecutter` \n",
    "* `make`\n",
    "* `git`\n",
    "\n",
    "# TODO: Add instructions for installing each of these to the wiki"
   ]
  },
  {
   "cell_type": "markdown",
   "metadata": {},
   "source": [
    "\n",
    "## The Reproducible Data Science Process\n",
    "### How do you spend your \"Data Science\" time?\n",
    "A Typical data science process looks something like this:\n",
    "* Munge: Fetch, process data, do EDA\n",
    "* Science: Train models, Predict, Transform data\n",
    "* Deliver: Analyze, summarize, publish\n",
    "\n",
    "Usually, the reproducible parts are in the **science** (and sometimes, but not always, the **deliver**) part of the process.\n",
    "<img src=\"references/charts/munge-supervised.png\" alt=\"Typical Data science Process\" width=500/>\n",
    "\n",
    "That seems like a bad idea, since the vast majority of the work is in the **munge** step. In some cases, it looks more like this:\n",
    "<img src=\"references/charts/munge-unsupervised.png\" alt=\"Typical Data science Process\" width=500/>\n",
    "\n",
    "We're going to try to improve this to a process that is **reproducible from start to finish**. \n",
    "\n",
    "There are 4 steps to this:\n",
    "* Creating a **Reproducible Environment**\n",
    "* Creating **Reproducible Data**\n",
    "* Building **Reproducible Models**\n",
    "* Achieving **Reproducible Results**"
   ]
  },
  {
   "cell_type": "code",
   "execution_count": null,
   "metadata": {},
   "outputs": [],
   "source": []
  }
 ],
 "metadata": {
  "kernelspec": {
   "display_name": "Python [conda env:bus_number]",
   "language": "python",
   "name": "conda-env-bus_number-py"
  },
  "language_info": {
   "codemirror_mode": {
    "name": "ipython",
    "version": 3
   },
   "file_extension": ".py",
   "mimetype": "text/x-python",
   "name": "python",
   "nbconvert_exporter": "python",
   "pygments_lexer": "ipython3",
   "version": "3.7.0"
  }
 },
 "nbformat": 4,
 "nbformat_minor": 2
}
