{
 "cells": [
  {
   "cell_type": "markdown",
   "metadata": {},
   "source": [
    "# Start Here\n",
    "\n",
    "This notebook is all about **getting you started doing Reproducible Data Science** , and giving you a **deeper look** at some of the concepts we will cover in this tutorial. For the latest version of this notebook, visit: \n",
    "\n",
    "    https://github.com/hackalog/bus_number\n",
    "\n",
    "## The Bare Minimum\n",
    "You will need:\n",
    "* `cookiecutter` \n",
    "* `conda` (and then `python >= 3.6`)\n",
    "* `make`\n"
   ]
  },
  {
   "cell_type": "markdown",
   "metadata": {},
   "source": [
    "# Installation: While we are talking...\n",
    "\n",
    "(This step is also described on the [Bus Number Wiki](https://github.com/hackalog/bus_number/wiki/Getting-Started).)\n",
    "\n",
    "1. Install [cookiecutter](https://cookiecutter.readthedocs.io/en/latest/installation.html):\n",
    "```\n",
    "conda install -c conda-forge cookiecutter\n",
    "```\n",
    "2. Use cookiecutter to install the `pydata_nyc` branch of `cookiecutter-easydata`:\n",
    "\n",
    "```\n",
    "cookiecutter https://github.com/hackalog/cookiecutter-easydata.git --checkout pydata_nyc\n",
    "```\n",
    "\n",
    "3. Configure a new project. Call it **bus_number**:\n",
    "<pre>\n",
    "project_name [project_name]: <b>bus_number</b>\n",
    "repo_name [bus_number]: <b>↵</b>\n",
    "module_name [src]: <b>↵</b>\n",
    "author_name [Your name (or your organization/company/team)]: <b>Kjell Wooding</b>\n",
    "description [A short description of this project.]: <b>Reproducible Data Science</b>\n",
    "Select open_source_license:\n",
    "1 - MIT\n",
    "2 - BSD-2-Clause\n",
    "3 - Proprietary\n",
    "Choose from 1, 2, 3 [1]: <b>↵</b>\n",
    "s3_bucket [[OPTIONAL] your-bucket-for-syncing-data (do not include 's3://')]: <b>↵</b>\n",
    "aws_profile [default]: <b>↵</b>\n",
    "Select virtualenv:\n",
    "1 - conda\n",
    "2 - virtualenv\n",
    "Choose from 1, 2 [1]: <b>↵</b>\n",
    "Select python_interpreter:\n",
    "1 - python3\n",
    "2 - python\n",
    "Choose from 1, 2 [1]: <b>↵</b>\n",
    "</pre>\n",
    "\n",
    "4. Create your Development Environment\n",
    "```\n",
    "cd bus_number\n",
    "make create_environment\n",
    "conda activate bus_number         # or `source activate bus_number`\n",
    "make requirements\n",
    "git init\n",
    "```\n",
    "That's it! You're ready to go"
   ]
  },
  {
   "cell_type": "markdown",
   "metadata": {},
   "source": [
    "## The Reproducible Data Science Process\n",
    "### How do you spend your \"Data Science\" time?\n",
    "A Typical data science process looks something like this:\n",
    "* Munge: Fetch, process data, do EDA\n",
    "* Science: Train models, Predict, Transform data\n",
    "* Deliver: Analyze, summarize, publish\n",
    "\n",
    "Usually, the reproducible parts are in the **science** (and sometimes, but not always, the **deliver**) part of the process.\n",
    "<img src=\"references/charts/munge-supervised.png\" alt=\"Typical Data science Process\" width=500/>\n",
    "\n",
    "That seems like a bad idea, since the vast majority of the work is in the **munge** step. In some cases, it looks more like this:\n",
    "<img src=\"references/charts/munge-unsupervised.png\" alt=\"Typical Data science Process\" width=500/>\n",
    "\n",
    "We're going to try to improve this to a process that is **reproducible from start to finish**. \n",
    "\n"
   ]
  },
  {
   "cell_type": "markdown",
   "metadata": {},
   "source": [
    "## Data Science is a DAG\n",
    "DAG = Directed Acyclic Graph. \n",
    "\n",
    "That means the process eventually stops. (This is a good thing!) \n",
    "\n",
    "It also means we can use a super old, but incredibly handy tool to implement this workflow: `make`.\n",
    "\n",
    "### Make, Makefiles, and the Data Flow\n",
    "We use a `Makefile` to organize and invoke the various steps in our Data Science pipeline.\n",
    "You have already used this file when you created your virtual environment in the first place:\n",
    "```\n",
    "make create_environment\n",
    "```\n",
    "Here are the steps we will be working through in this tutorial:\n",
    "<img src=\"references/cheat_sheet.png\" alt=\"Reproducible Data Science Workflow\" width=\"400\"/>\n",
    "\n",
    "A [PDF version of the cheat sheet](references/cheat_sheet.pdf) is also available.\n"
   ]
  },
  {
   "cell_type": "markdown",
   "metadata": {},
   "source": [
    "\n",
    "### ASIDE: What's my make target doing?\n",
    "If you are ever curious what commands a `make` command will invoke (including any invoked dependencies), use `make -n`, which lists the commands without executing them:"
   ]
  },
  {
   "cell_type": "code",
   "execution_count": null,
   "metadata": {},
   "outputs": [],
   "source": [
    "%%bash\n",
    "cd .. && make -n requirements"
   ]
  },
  {
   "cell_type": "markdown",
   "metadata": {},
   "source": [
    "We use a cute **self-documenting makefiles trick** (borrowed from `cookiecutter-datascience`) to make it easy to document the various targets that you add. This documentation is produced when you type a plain `make`:"
   ]
  },
  {
   "cell_type": "code",
   "execution_count": null,
   "metadata": {},
   "outputs": [],
   "source": [
    "%%bash\n",
    "cd .. && make"
   ]
  },
  {
   "cell_type": "markdown",
   "metadata": {},
   "source": [
    "### Under the Hood: The Format of a Makefile\n",
    "\n",
    "```\n",
    "## Comment to appear in the auto-generated documentation\n",
    "thing_to_build: space separated list of dependencies\n",
    "\tcommand_to_run            # there is a tab before this command.\n",
    "\tanother_command_to_run    # every line gets run in a *new shell*\n",
    "```\n",
    "\n"
   ]
  },
  {
   "cell_type": "code",
   "execution_count": null,
   "metadata": {},
   "outputs": [],
   "source": [
    "%%file Makefile.test\n",
    "\n",
    "data: raw\n",
    "\t@echo \"Build Datasets\"\n",
    "train_test_split:\n",
    "\t@echo \"do train/test split\"\n",
    "train: data transform_data train_test_split\n",
    "\t@echo \"Train Models\"\n",
    "transform_data:\n",
    "\t@echo \"do a data transformation\"\n",
    "raw:\n",
    "\t@echo \"Fetch raw data\"\n"
   ]
  },
  {
   "cell_type": "markdown",
   "metadata": {},
   "source": [
    "If you see: ```*** missing separator.  Stop.``` it's because you have used spaces instead of **tabs** before your commands. "
   ]
  },
  {
   "cell_type": "code",
   "execution_count": null,
   "metadata": {},
   "outputs": [],
   "source": [
    "%%bash\n",
    "make -f Makefile.test train"
   ]
  },
  {
   "cell_type": "code",
   "execution_count": null,
   "metadata": {},
   "outputs": [],
   "source": [
    "%%file Makefile.test\n",
    "\n",
    "cycle: cycle_b\n",
    "\t@echo \"in a Makefile\"\n",
    "cycle_b: cycle_c\n",
    "\t@echo \"have a cycle\"\n",
    "cycle_c: cycle\n",
    "\t@echo \"You can't\""
   ]
  },
  {
   "cell_type": "code",
   "execution_count": null,
   "metadata": {},
   "outputs": [],
   "source": [
    "%%bash\n",
    "make -f Makefile.test cycle"
   ]
  },
  {
   "cell_type": "markdown",
   "metadata": {},
   "source": [
    "Using a Makefile like this is an easy way to set up a process flow expressed as a Directed Acyclic Graph (DAG).\n",
    "\n",
    "**Note**: We have only scratched the surface here. The are lots of interesting tricks you can do with make.\n",
    "* http://zmjones.com/make/\n",
    "* http://blog.byronjsmith.com/makefile-shortcuts.html\n",
    "* https://www.gnu.org/software/make/manual/\n"
   ]
  },
  {
   "cell_type": "markdown",
   "metadata": {},
   "source": [
    "### ASIDE: Our Favourite Python Parts\n",
    "Why the `python>=3.6` requirement?\n",
    "* f-strings: Finally, long, readable strings in our code.\n",
    "* dictionaries: insertion order is preserved!\n",
    "\n",
    "Other great tools:\n",
    "* `pathlib`: Sane, multiplatorm path handling: https://realpython.com/python-pathlib/\n",
    "* `doctest`: Examples that always work: https://docs.python.org/3/library/doctest.html\n",
    "* `joblib`: Especially the persistence part: https://joblib.readthedocs.io/en/latest/persistence.html\n"
   ]
  },
  {
   "cell_type": "markdown",
   "metadata": {},
   "source": [
    "\n"
   ]
  },
  {
   "cell_type": "markdown",
   "metadata": {},
   "source": [
    "## ASIDE: Virtual Environments\n",
    "\n",
    "It's impossible to have Reproducible Data Science, without **reproducible code**. If your code, run by someone else (or on a different machine) produces different results, then it is **not** reproducible. To fix this, we need to have a reproducible environment.\n",
    "\n",
    "In short, we need **virtual environments**. In this case, we're going to use `conda` as this is the most common choice within this community. Furthermore, we use an `environment.yml` to specify to a user which packages need to be install to run our code.\n",
    "    \n",
    "Two `make` commands  ensure that we have the appropriate environment:\n",
    "* `make create_environment`: for the initial creation of a project specific conda environment\n",
    "* `make requirements`: to update our environment to the latest version of the `environment.yml` specs\n",
    "\n",
    "**Caveat**: Technically speaking, as implemeted in this workflow, a `conda` environment is **not reproducible**. Even if you specify a specific version of a package in your `environment.yml`, the way its dependencies get resolved may differ in their versions. Other approaches to virtual environments have **lockfiles** that ensure that the environment is completely reproducible (eg. `pipenv`). This is the **right way** to handle such things, and we are hoping conda catches up quickly.\n"
   ]
  }
 ],
 "metadata": {
  "kernelspec": {
   "display_name": "Python [conda env:bus_number]",
   "language": "python",
   "name": "conda-env-bus_number-py"
  },
  "language_info": {
   "codemirror_mode": {
    "name": "ipython",
    "version": 3
   },
   "file_extension": ".py",
   "mimetype": "text/x-python",
   "name": "python",
   "nbconvert_exporter": "python",
   "pygments_lexer": "ipython3",
   "version": "3.6.6"
  }
 },
 "nbformat": 4,
 "nbformat_minor": 2
}
