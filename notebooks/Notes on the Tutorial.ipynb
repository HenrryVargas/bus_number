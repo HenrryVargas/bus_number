{
 "cells": [
  {
   "cell_type": "markdown",
   "metadata": {},
   "source": [
    "* cookiecutter is too slow to do live\n",
    "** nbdime, nbval was broken\n",
    "\n",
    "* Too long talking after setup, before notebook\n",
    "\n",
    "* More instructions for what doing while talking\n",
    "\n",
    "* Too much text in notebooks - fine for SOLUTION notebook, but the problem notebooks should be pretty bare\n",
    "\n",
    "Problem/solution.\n",
    "\n",
    "* Need stop/talk points in notebook (and shift-enter sections)\n",
    "* Explain what they did. (not what they are about to do)\n",
    "Clearer instructions on what they should be doing.\n",
    "\n",
    "\n"
   ]
  },
  {
   "cell_type": "markdown",
   "metadata": {},
   "source": [
    "Exposition: Introduce a problem, the tools to solve it.\n",
    "* Give a quick example.\n",
    "Give an exercise:\n",
    "    * Give an explicit problem to be solved\n",
    "    * Have an outcome in mind\n",
    "review our solution to the same problem\n",
    "\n",
    "Rinse, Lather, Repeat\n",
    "\n",
    "e.g. here's the site. PRodice a RawDataset with tar URL, license, readme, and do a \"fetch\"\n",
    "\n",
    "You should end up with 3 files.\n",
    "\n",
    "\n",
    "* Suggestion: Visualize the flow/graph of steps\n"
   ]
  },
  {
   "cell_type": "markdown",
   "metadata": {},
   "source": [
    "* instructions available for installation of \n",
    "    * git\n",
    "    * make\n",
    "    * editor (not familiar with their laptop)\n",
    "   "
   ]
  },
  {
   "cell_type": "markdown",
   "metadata": {},
   "source": [
    "## Tutorial 0: Reproducible Environment (30m)\n",
    "\n",
    "* Code Flow: make and makefiles\n",
    "* Templates: cookiecutter\n",
    "* Revision Control: git and github\n",
    "* Virtualenv: conda / pipenv\n",
    "* Testing: doctest, pytest, hypothesis\n",
    "\n",
    "## Tutorial 1: Reproducible Data (1h)\n",
    "\"Raw Data is Read Only. Sing it with me\"\n",
    "\n",
    "\n",
    "* RawDataset\n",
    "  * Fetching + Unpack\n",
    "      * Example 1: lvq-pak\n",
    "      * Exercise: fmnist\n",
    "  * Processing data\n",
    "    * Process into data, (optionally, target)\n",
    "    * create a process_my_dataset() function\n",
    "        * Example 1: lvq-pak\n",
    "        * Exercise: fmnist\n",
    "    * save the raw dataset to the raw dataset catalog\n",
    "\n",
    "* Datasets and Data Transformers\n",
    "    * Create a transformer to produce a Dataset from the RawDataset\n",
    "    * Add this dataset to the catalog\n",
    "    * Load the dataset\n",
    "        * example: lvq-pak\n",
    "        * exercise: fmnist_test, fmnist_train\n",
    "    \n",
    "    * More Complicated Transformers\n",
    "        * Example: Train/Test Split on lvq-pak\n",
    "        * Exercise: merge labels on lvq-pak\n",
    "        * Exercise: merge labels on fmnist\n",
    "        \n",
    "* Punchline: \n",
    "  * make clean_raw, clean_cache, clean_processed, (clean_data?) `make data`\n",
    "\n",
    "\n",
    "## Tutorial 2: Reproducible Models (1h)\n",
    "\"We're gonna data science the @#&! out of this\"\n",
    "\n",
    "* Models (Estimators with metadata)\n",
    "\n",
    "* Experiments (Datasets with metadata)\n",
    "\n",
    "* Punchline:\n",
    "  * make clean_models, clean_predictions. `make predict`\n",
    "  \n",
    "## Tutorial 3: Reproducible Results (30m)\n",
    "\"I'm only here for the pretty pictures\"\n",
    "\n",
    "* Punchline\n",
    "  * make clean_analysis, clean_results, `make results`\n",
    "\n",
    "\n",
    "## The Big Punchline\n",
    "```\n",
    "make clean\n",
    "make results\n",
    "```"
   ]
  },
  {
   "cell_type": "markdown",
   "metadata": {},
   "source": []
  },
  {
   "cell_type": "code",
   "execution_count": null,
   "metadata": {},
   "outputs": [],
   "source": []
  }
 ],
 "metadata": {
  "kernelspec": {
   "display_name": "Python [conda env:bus_number]",
   "language": "python",
   "name": "conda-env-bus_number-py"
  },
  "language_info": {
   "codemirror_mode": {
    "name": "ipython",
    "version": 3
   },
   "file_extension": ".py",
   "mimetype": "text/x-python",
   "name": "python",
   "nbconvert_exporter": "python",
   "pygments_lexer": "ipython3",
   "version": "3.6.6"
  }
 },
 "nbformat": 4,
 "nbformat_minor": 2
}
